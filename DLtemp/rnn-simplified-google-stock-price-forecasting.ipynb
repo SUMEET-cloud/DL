{
 "cells": [
  {
   "cell_type": "markdown",
   "metadata": {
    "id": "ebOymhJyjX-e"
   },
   "source": [
    "# Recurrent Neural Network Simplified (Google Stock Price Forecasting)\n",
    "\n",
    "### **Goals of the project -** \n",
    "* To understand the basic implemetation of the RNN and LSTM\n",
    "* To build the RNN layer by layer and understanding the significance of LSTM and the arguments used\n",
    "* Understanding the importance of Normalization in RNN\n",
    "* To understand the concept of time steps\n",
    "* Creating training and testing set from the same data by using the concept of time steps\n",
    "* Comparing the forecast of the actual and predicted stock prices\n",
    "* Understanding the significance of RNN in terms of forecasting and its limitations\n",
    "* Evaluating the RNN by RMSE value taken as a percentage of the orignal value"
   ]
  },
  {
   "cell_type": "markdown",
   "metadata": {
    "id": "tj-wDf9zmS7r"
   },
   "source": [
    "## **Step 1** : Pre-processing"
   ]
  },
  {
   "cell_type": "code",
   "execution_count": 1,
   "metadata": {
    "id": "-9ojXUBl1Rur"
   },
   "outputs": [],
   "source": [
    "import numpy as np\n",
    "import pandas as pd\n",
    "import warnings  \n",
    "warnings.filterwarnings('ignore') # to ignore the warnings"
   ]
  },
  {
   "cell_type": "code",
   "execution_count": 2,
   "metadata": {
    "id": "j12pTq4c1ow-",
    "outputId": "e563ebb3-1664-4100-f1e6-d6b79a5a6ff2"
   },
   "outputs": [
    {
     "data": {
      "text/html": [
       "<div>\n",
       "<style scoped>\n",
       "    .dataframe tbody tr th:only-of-type {\n",
       "        vertical-align: middle;\n",
       "    }\n",
       "\n",
       "    .dataframe tbody tr th {\n",
       "        vertical-align: top;\n",
       "    }\n",
       "\n",
       "    .dataframe thead th {\n",
       "        text-align: right;\n",
       "    }\n",
       "</style>\n",
       "<table border=\"1\" class=\"dataframe\">\n",
       "  <thead>\n",
       "    <tr style=\"text-align: right;\">\n",
       "      <th></th>\n",
       "      <th>Date</th>\n",
       "      <th>Open</th>\n",
       "      <th>High</th>\n",
       "      <th>Low</th>\n",
       "      <th>Close</th>\n",
       "      <th>Volume</th>\n",
       "    </tr>\n",
       "  </thead>\n",
       "  <tbody>\n",
       "    <tr>\n",
       "      <th>0</th>\n",
       "      <td>1/3/2012</td>\n",
       "      <td>325.25</td>\n",
       "      <td>332.83</td>\n",
       "      <td>324.97</td>\n",
       "      <td>663.59</td>\n",
       "      <td>7,380,500</td>\n",
       "    </tr>\n",
       "    <tr>\n",
       "      <th>1</th>\n",
       "      <td>1/4/2012</td>\n",
       "      <td>331.27</td>\n",
       "      <td>333.87</td>\n",
       "      <td>329.08</td>\n",
       "      <td>666.45</td>\n",
       "      <td>5,749,400</td>\n",
       "    </tr>\n",
       "    <tr>\n",
       "      <th>2</th>\n",
       "      <td>1/5/2012</td>\n",
       "      <td>329.83</td>\n",
       "      <td>330.75</td>\n",
       "      <td>326.89</td>\n",
       "      <td>657.21</td>\n",
       "      <td>6,590,300</td>\n",
       "    </tr>\n",
       "    <tr>\n",
       "      <th>3</th>\n",
       "      <td>1/6/2012</td>\n",
       "      <td>328.34</td>\n",
       "      <td>328.77</td>\n",
       "      <td>323.68</td>\n",
       "      <td>648.24</td>\n",
       "      <td>5,405,900</td>\n",
       "    </tr>\n",
       "    <tr>\n",
       "      <th>4</th>\n",
       "      <td>1/9/2012</td>\n",
       "      <td>322.04</td>\n",
       "      <td>322.29</td>\n",
       "      <td>309.46</td>\n",
       "      <td>620.76</td>\n",
       "      <td>11,688,800</td>\n",
       "    </tr>\n",
       "  </tbody>\n",
       "</table>\n",
       "</div>"
      ],
      "text/plain": [
       "       Date    Open    High     Low   Close      Volume\n",
       "0  1/3/2012  325.25  332.83  324.97  663.59   7,380,500\n",
       "1  1/4/2012  331.27  333.87  329.08  666.45   5,749,400\n",
       "2  1/5/2012  329.83  330.75  326.89  657.21   6,590,300\n",
       "3  1/6/2012  328.34  328.77  323.68  648.24   5,405,900\n",
       "4  1/9/2012  322.04  322.29  309.46  620.76  11,688,800"
      ]
     },
     "execution_count": 2,
     "metadata": {},
     "output_type": "execute_result"
    }
   ],
   "source": [
    "training = pd.read_csv(\"./Google_Stock_Price_Train.csv\")\n",
    "training.head()"
   ]
  },
  {
   "cell_type": "markdown",
   "metadata": {
    "id": "Ufph40lqnpn3"
   },
   "source": [
    "**Things to consider -**\n",
    "* For this project sake we will be considering only the \"Open\" value of the stock as we are building the RNN\n",
    "* This is done because in RNN, one value at a time `t` is given as an input in a module and that in return gives the next predicted value at time `t+1`"
   ]
  },
  {
   "cell_type": "code",
   "execution_count": 3,
   "metadata": {
    "id": "HQ-ppUIC2JpA"
   },
   "outputs": [],
   "source": [
    "real_stock_price_train = training.iloc[:, 1:2].values     # creates a 2D array having observation and feature"
   ]
  },
  {
   "cell_type": "markdown",
   "metadata": {
    "id": "Nyc_x2u7oZfS"
   },
   "source": [
    "**Step - 1.1 :** Feature Scaling"
   ]
  },
  {
   "cell_type": "code",
   "execution_count": 4,
   "metadata": {
    "id": "6wyjiCZs2NfS"
   },
   "outputs": [],
   "source": [
    "from sklearn.preprocessing import MinMaxScaler\n",
    "sc = MinMaxScaler()\n",
    "training2 = sc.fit_transform(real_stock_price_train)"
   ]
  },
  {
   "cell_type": "markdown",
   "metadata": {
    "id": "pf8oM_dxoBL4"
   },
   "source": [
    "**Note -**\n",
    "* We prefer `Normalization` over `Standardization` here coz the sigmoid function takes values betn 0 and 1, \n",
    "* Hence it would be better to scale our values betn 0 and 1, thus its better to do use `MinMaxScaler`"
   ]
  },
  {
   "cell_type": "markdown",
   "metadata": {
    "id": "0RXiJknfomTo"
   },
   "source": [
    "**Step - 1.2 :** Checking the shape"
   ]
  },
  {
   "cell_type": "code",
   "execution_count": 5,
   "metadata": {
    "id": "ymTDXfea2QHz",
    "outputId": "8838dd96-adc9-49c6-d1d6-3c56fb7ef0ef"
   },
   "outputs": [
    {
     "data": {
      "text/plain": [
       "(1258, 1)"
      ]
     },
     "execution_count": 5,
     "metadata": {},
     "output_type": "execute_result"
    }
   ],
   "source": [
    "training2.shape\n"
   ]
  },
  {
   "cell_type": "markdown",
   "metadata": {
    "id": "upW0ZeNgo4mv"
   },
   "source": [
    "**Step 1.3 :** Getting the input and output values\n",
    "\n",
    "**Note -**\n",
    "* The input values must be the stock prices at time `t` and the output values should be the stock prices at time `t+1`"
   ]
  },
  {
   "cell_type": "code",
   "execution_count": 6,
   "metadata": {
    "id": "FdxrC5FV2Sn6"
   },
   "outputs": [],
   "source": [
    "# hence in the input we take\n",
    "X_train = training2[0:1257]  # all but last observation as we don't have the output value for it\n",
    "y_train = training2[1:1258]  # values shifted by 1"
   ]
  },
  {
   "cell_type": "markdown",
   "metadata": {
    "id": "6zkgIyNLpcz9"
   },
   "source": [
    "**Step 1.4 :** Reshaping\n",
    "* We need to convert this 2D (observation and feature)array into a 3D array because it is a time series problem\n",
    "* So we need to add a *time step* of 1 because our input is stock price at time `t` and output is stock price at time `t+1` and `(t+1) - t = 1`, hence `1` is the time step"
   ]
  },
  {
   "cell_type": "code",
   "execution_count": 7,
   "metadata": {
    "id": "5ATLaPkQ2fEz"
   },
   "outputs": [],
   "source": [
    "X_train = np.reshape(X_train, (1257, 1, 1))\n",
    "# (1257, 1, 1) the 2nd argument is no. of features and 3rd argument is the time step"
   ]
  },
  {
   "cell_type": "markdown",
   "metadata": {
    "id": "qnO-Mzw2qB5d"
   },
   "source": [
    "## **Step - 2 :** Building the RNN"
   ]
  },
  {
   "cell_type": "code",
   "execution_count": 8,
   "metadata": {
    "id": "NyUpDvab2g8u",
    "outputId": "f03da5cd-32a8-4285-ee6c-5ce2ee41dda6"
   },
   "outputs": [],
   "source": [
    "# importing libraries\n",
    "from keras.models import Sequential  # initialize NN as a sequnce of layers\n",
    "from keras.layers import Dense  # to add fully connected layers\n",
    "from keras.layers import LSTM"
   ]
  },
  {
   "cell_type": "markdown",
   "metadata": {
    "id": "OmpEJRUwqdQz"
   },
   "source": [
    "**Step 2.1 :** Initializing the RNN"
   ]
  },
  {
   "cell_type": "code",
   "execution_count": 9,
   "metadata": {
    "id": "xn7S2A1O2jmG"
   },
   "outputs": [],
   "source": [
    "rnn_regressor = Sequential()"
   ]
  },
  {
   "cell_type": "markdown",
   "metadata": {
    "id": "kubeAJ0hqnTf"
   },
   "source": [
    "**Step 2.2 :** Adding input layer and LSTM layer\n",
    "* In the add method, we use the class corresponding to the layer we want to add\n",
    "* In this case we are adding the LSTM layer thus replacing the input layer (Dense class) by the LSTM class"
   ]
  },
  {
   "cell_type": "code",
   "execution_count": 10,
   "metadata": {
    "id": "qR1KLPBP2m7n"
   },
   "outputs": [],
   "source": [
    "rnn_regressor.add(LSTM(units=4, activation='sigmoid', input_shape=(1, 1)))"
   ]
  },
  {
   "cell_type": "markdown",
   "metadata": {
    "id": "LnVSryeXtC1k"
   },
   "source": [
    "**Arguments used -**\n",
    "* `units` = no. of memory units\n",
    "* `input_shape=(1, 1)` means the 1st element is the time step and the 2nd element is no. of features"
   ]
  },
  {
   "cell_type": "markdown",
   "metadata": {
    "id": "KkyXDJRetPOe"
   },
   "source": [
    "**Step 2.3 :** Adding the output layer"
   ]
  },
  {
   "cell_type": "code",
   "execution_count": 11,
   "metadata": {
    "id": "Akb23gTF2oRx"
   },
   "outputs": [],
   "source": [
    "rnn_regressor.add(Dense(units=1))"
   ]
  },
  {
   "cell_type": "markdown",
   "metadata": {
    "id": "SRSD7IpitZwE"
   },
   "source": [
    "**Arguments used -**\n",
    "* `units` = no. of neurons in output layer, here it is a regressor hence 1"
   ]
  },
  {
   "cell_type": "markdown",
   "metadata": {
    "id": "vlMctjOctesc"
   },
   "source": [
    "**Step 2.4 :** Compiling the RNN"
   ]
  },
  {
   "cell_type": "code",
   "execution_count": 12,
   "metadata": {
    "id": "XsRB5vKB2qIw"
   },
   "outputs": [],
   "source": [
    "rnn_regressor.compile(optimizer='adam', loss='mean_squared_error')"
   ]
  },
  {
   "cell_type": "markdown",
   "metadata": {
    "id": "dH7tW3hutqHe"
   },
   "source": [
    "**Step 2.5 :** Fitting the RNN to training set"
   ]
  },
  {
   "cell_type": "code",
   "execution_count": 13,
   "metadata": {
    "id": "3BLaR8D42sEK",
    "outputId": "2eb285bf-d89e-4600-bec1-de25d6c49ed2"
   },
   "outputs": [
    {
     "name": "stdout",
     "output_type": "stream",
     "text": [
      "Epoch 1/200\n",
      "40/40 [==============================] - 7s 8ms/step - loss: 0.2202\n",
      "Epoch 2/200\n",
      "40/40 [==============================] - 0s 8ms/step - loss: 0.1575\n",
      "Epoch 3/200\n",
      "40/40 [==============================] - 0s 8ms/step - loss: 0.1179\n",
      "Epoch 4/200\n",
      "40/40 [==============================] - 0s 6ms/step - loss: 0.0955\n",
      "Epoch 5/200\n",
      "40/40 [==============================] - 0s 7ms/step - loss: 0.0835\n",
      "Epoch 6/200\n",
      "40/40 [==============================] - 0s 6ms/step - loss: 0.0776\n",
      "Epoch 7/200\n",
      "40/40 [==============================] - 0s 9ms/step - loss: 0.0746\n",
      "Epoch 8/200\n",
      "40/40 [==============================] - 0s 7ms/step - loss: 0.0731\n",
      "Epoch 9/200\n",
      "40/40 [==============================] - 0s 7ms/step - loss: 0.0719\n",
      "Epoch 10/200\n",
      "40/40 [==============================] - 0s 6ms/step - loss: 0.0710\n",
      "Epoch 11/200\n",
      "40/40 [==============================] - 0s 7ms/step - loss: 0.0701\n",
      "Epoch 12/200\n",
      "40/40 [==============================] - 0s 8ms/step - loss: 0.0691\n",
      "Epoch 13/200\n",
      "40/40 [==============================] - 0s 8ms/step - loss: 0.0682\n",
      "Epoch 14/200\n",
      "40/40 [==============================] - 0s 5ms/step - loss: 0.0672\n",
      "Epoch 15/200\n",
      "40/40 [==============================] - 0s 8ms/step - loss: 0.0662\n",
      "Epoch 16/200\n",
      "40/40 [==============================] - 0s 8ms/step - loss: 0.0651\n",
      "Epoch 17/200\n",
      "40/40 [==============================] - 0s 6ms/step - loss: 0.0640\n",
      "Epoch 18/200\n",
      "40/40 [==============================] - 0s 7ms/step - loss: 0.0628\n",
      "Epoch 19/200\n",
      "40/40 [==============================] - 0s 6ms/step - loss: 0.0617\n",
      "Epoch 20/200\n",
      "40/40 [==============================] - 0s 7ms/step - loss: 0.0605\n",
      "Epoch 21/200\n",
      "40/40 [==============================] - 0s 6ms/step - loss: 0.0593\n",
      "Epoch 22/200\n",
      "40/40 [==============================] - 0s 8ms/step - loss: 0.0578\n",
      "Epoch 23/200\n",
      "40/40 [==============================] - 0s 8ms/step - loss: 0.0564\n",
      "Epoch 24/200\n",
      "40/40 [==============================] - 0s 6ms/step - loss: 0.0550\n",
      "Epoch 25/200\n",
      "40/40 [==============================] - 0s 9ms/step - loss: 0.0535\n",
      "Epoch 26/200\n",
      "40/40 [==============================] - 0s 8ms/step - loss: 0.0520\n",
      "Epoch 27/200\n",
      "40/40 [==============================] - 0s 8ms/step - loss: 0.0503\n",
      "Epoch 28/200\n",
      "40/40 [==============================] - 0s 7ms/step - loss: 0.0487\n",
      "Epoch 29/200\n",
      "40/40 [==============================] - 0s 7ms/step - loss: 0.0470\n",
      "Epoch 30/200\n",
      "40/40 [==============================] - 0s 8ms/step - loss: 0.0452\n",
      "Epoch 31/200\n",
      "40/40 [==============================] - 0s 6ms/step - loss: 0.0434\n",
      "Epoch 32/200\n",
      "40/40 [==============================] - 0s 8ms/step - loss: 0.0415\n",
      "Epoch 33/200\n",
      "40/40 [==============================] - 0s 8ms/step - loss: 0.0396\n",
      "Epoch 34/200\n",
      "40/40 [==============================] - 0s 7ms/step - loss: 0.0376\n",
      "Epoch 35/200\n",
      "40/40 [==============================] - 0s 7ms/step - loss: 0.0355\n",
      "Epoch 36/200\n",
      "40/40 [==============================] - 0s 6ms/step - loss: 0.0335\n",
      "Epoch 37/200\n",
      "40/40 [==============================] - 0s 8ms/step - loss: 0.0315\n",
      "Epoch 38/200\n",
      "40/40 [==============================] - 0s 8ms/step - loss: 0.0294\n",
      "Epoch 39/200\n",
      "40/40 [==============================] - 0s 7ms/step - loss: 0.0274\n",
      "Epoch 40/200\n",
      "40/40 [==============================] - 0s 8ms/step - loss: 0.0253\n",
      "Epoch 41/200\n",
      "40/40 [==============================] - 0s 6ms/step - loss: 0.0233\n",
      "Epoch 42/200\n",
      "40/40 [==============================] - 0s 7ms/step - loss: 0.0213\n",
      "Epoch 43/200\n",
      "40/40 [==============================] - 0s 7ms/step - loss: 0.0194\n",
      "Epoch 44/200\n",
      "40/40 [==============================] - 0s 7ms/step - loss: 0.0175\n",
      "Epoch 45/200\n",
      "40/40 [==============================] - 0s 8ms/step - loss: 0.0157\n",
      "Epoch 46/200\n",
      "40/40 [==============================] - 0s 6ms/step - loss: 0.0140\n",
      "Epoch 47/200\n",
      "40/40 [==============================] - 0s 7ms/step - loss: 0.0124\n",
      "Epoch 48/200\n",
      "40/40 [==============================] - 0s 8ms/step - loss: 0.0109\n",
      "Epoch 49/200\n",
      "40/40 [==============================] - 0s 7ms/step - loss: 0.0095\n",
      "Epoch 50/200\n",
      "40/40 [==============================] - 0s 7ms/step - loss: 0.0082\n",
      "Epoch 51/200\n",
      "40/40 [==============================] - 0s 7ms/step - loss: 0.0071\n",
      "Epoch 52/200\n",
      "40/40 [==============================] - 0s 8ms/step - loss: 0.0060\n",
      "Epoch 53/200\n",
      "40/40 [==============================] - 0s 6ms/step - loss: 0.0051\n",
      "Epoch 54/200\n",
      "40/40 [==============================] - 0s 7ms/step - loss: 0.0043\n",
      "Epoch 55/200\n",
      "40/40 [==============================] - 0s 7ms/step - loss: 0.0036\n",
      "Epoch 56/200\n",
      "40/40 [==============================] - 0s 8ms/step - loss: 0.0030\n",
      "Epoch 57/200\n",
      "40/40 [==============================] - 0s 6ms/step - loss: 0.0025\n",
      "Epoch 58/200\n",
      "40/40 [==============================] - 0s 6ms/step - loss: 0.0020\n",
      "Epoch 59/200\n",
      "40/40 [==============================] - 0s 8ms/step - loss: 0.0017\n",
      "Epoch 60/200\n",
      "40/40 [==============================] - 0s 7ms/step - loss: 0.0014\n",
      "Epoch 61/200\n",
      "40/40 [==============================] - 0s 6ms/step - loss: 0.0012\n",
      "Epoch 62/200\n",
      "40/40 [==============================] - 0s 7ms/step - loss: 9.6251e-04\n",
      "Epoch 63/200\n",
      "40/40 [==============================] - 0s 7ms/step - loss: 8.0775e-04\n",
      "Epoch 64/200\n",
      "40/40 [==============================] - 0s 6ms/step - loss: 6.8841e-04\n",
      "Epoch 65/200\n",
      "40/40 [==============================] - 0s 6ms/step - loss: 5.9456e-04\n",
      "Epoch 66/200\n",
      "40/40 [==============================] - 0s 7ms/step - loss: 5.2193e-04\n",
      "Epoch 67/200\n",
      "40/40 [==============================] - 0s 7ms/step - loss: 4.6460e-04\n",
      "Epoch 68/200\n",
      "40/40 [==============================] - 0s 6ms/step - loss: 4.2296e-04\n",
      "Epoch 69/200\n",
      "40/40 [==============================] - 0s 8ms/step - loss: 3.9051e-04\n",
      "Epoch 70/200\n",
      "40/40 [==============================] - 0s 7ms/step - loss: 3.6716e-04\n",
      "Epoch 71/200\n",
      "40/40 [==============================] - 0s 7ms/step - loss: 3.4971e-04\n",
      "Epoch 72/200\n",
      "40/40 [==============================] - 0s 7ms/step - loss: 3.3651e-04\n",
      "Epoch 73/200\n",
      "40/40 [==============================] - 0s 8ms/step - loss: 3.2629e-04\n",
      "Epoch 74/200\n",
      "40/40 [==============================] - 0s 7ms/step - loss: 3.2027e-04\n",
      "Epoch 75/200\n",
      "40/40 [==============================] - 0s 7ms/step - loss: 3.1470e-04\n",
      "Epoch 76/200\n",
      "40/40 [==============================] - 0s 6ms/step - loss: 3.1044e-04\n",
      "Epoch 77/200\n",
      "40/40 [==============================] - 0s 8ms/step - loss: 3.0808e-04\n",
      "Epoch 78/200\n",
      "40/40 [==============================] - 0s 6ms/step - loss: 3.0592e-04\n",
      "Epoch 79/200\n",
      "40/40 [==============================] - 0s 7ms/step - loss: 3.0391e-04\n",
      "Epoch 80/200\n",
      "40/40 [==============================] - 0s 7ms/step - loss: 3.0271e-04\n",
      "Epoch 81/200\n",
      "40/40 [==============================] - 0s 7ms/step - loss: 3.0159e-04\n",
      "Epoch 82/200\n",
      "40/40 [==============================] - 0s 6ms/step - loss: 3.0115e-04\n",
      "Epoch 83/200\n",
      "40/40 [==============================] - 0s 8ms/step - loss: 3.0071e-04\n",
      "Epoch 84/200\n",
      "40/40 [==============================] - 0s 6ms/step - loss: 2.9833e-04\n",
      "Epoch 85/200\n",
      "40/40 [==============================] - 0s 8ms/step - loss: 2.9779e-04\n",
      "Epoch 86/200\n",
      "40/40 [==============================] - 0s 8ms/step - loss: 2.9684e-04\n",
      "Epoch 87/200\n",
      "40/40 [==============================] - 0s 7ms/step - loss: 2.9622e-04\n",
      "Epoch 88/200\n",
      "40/40 [==============================] - 0s 7ms/step - loss: 2.9556e-04\n",
      "Epoch 89/200\n",
      "40/40 [==============================] - 0s 7ms/step - loss: 2.9505e-04\n",
      "Epoch 90/200\n",
      "40/40 [==============================] - 0s 8ms/step - loss: 2.9268e-04\n",
      "Epoch 91/200\n",
      "40/40 [==============================] - 0s 7ms/step - loss: 2.9206e-04\n",
      "Epoch 92/200\n",
      "40/40 [==============================] - 0s 6ms/step - loss: 2.9209e-04\n",
      "Epoch 93/200\n",
      "40/40 [==============================] - 0s 6ms/step - loss: 2.9093e-04\n",
      "Epoch 94/200\n",
      "40/40 [==============================] - 0s 6ms/step - loss: 2.9043e-04\n",
      "Epoch 95/200\n",
      "40/40 [==============================] - 0s 8ms/step - loss: 2.8967e-04\n",
      "Epoch 96/200\n",
      "40/40 [==============================] - 0s 6ms/step - loss: 2.9044e-04\n",
      "Epoch 97/200\n",
      "40/40 [==============================] - 0s 7ms/step - loss: 2.8796e-04\n",
      "Epoch 98/200\n",
      "40/40 [==============================] - 0s 8ms/step - loss: 2.8782e-04\n",
      "Epoch 99/200\n",
      "40/40 [==============================] - 0s 7ms/step - loss: 2.8656e-04\n",
      "Epoch 100/200\n",
      "40/40 [==============================] - 0s 6ms/step - loss: 2.8669e-04\n",
      "Epoch 101/200\n",
      "40/40 [==============================] - 0s 8ms/step - loss: 2.8729e-04\n",
      "Epoch 102/200\n",
      "40/40 [==============================] - 0s 7ms/step - loss: 2.8539e-04\n",
      "Epoch 103/200\n",
      "40/40 [==============================] - 0s 6ms/step - loss: 2.8374e-04\n",
      "Epoch 104/200\n",
      "40/40 [==============================] - 0s 7ms/step - loss: 2.8383e-04\n",
      "Epoch 105/200\n",
      "40/40 [==============================] - 0s 6ms/step - loss: 2.8259e-04\n",
      "Epoch 106/200\n",
      "40/40 [==============================] - 0s 6ms/step - loss: 2.8216e-04\n",
      "Epoch 107/200\n",
      "40/40 [==============================] - 0s 6ms/step - loss: 2.8143e-04\n",
      "Epoch 108/200\n",
      "40/40 [==============================] - 0s 6ms/step - loss: 2.8066e-04\n",
      "Epoch 109/200\n",
      "40/40 [==============================] - 0s 7ms/step - loss: 2.8033e-04\n",
      "Epoch 110/200\n",
      "40/40 [==============================] - 0s 7ms/step - loss: 2.7964e-04\n",
      "Epoch 111/200\n",
      "40/40 [==============================] - 0s 7ms/step - loss: 2.8002e-04\n",
      "Epoch 112/200\n",
      "40/40 [==============================] - 0s 8ms/step - loss: 2.7908e-04\n",
      "Epoch 113/200\n",
      "40/40 [==============================] - 0s 8ms/step - loss: 2.7865e-04\n",
      "Epoch 114/200\n",
      "40/40 [==============================] - 0s 6ms/step - loss: 2.7769e-04\n",
      "Epoch 115/200\n",
      "40/40 [==============================] - 0s 7ms/step - loss: 2.7770e-04\n",
      "Epoch 116/200\n",
      "40/40 [==============================] - 0s 7ms/step - loss: 2.7679e-04\n",
      "Epoch 117/200\n",
      "40/40 [==============================] - 0s 7ms/step - loss: 2.7638e-04\n",
      "Epoch 118/200\n",
      "40/40 [==============================] - 0s 7ms/step - loss: 2.7720e-04\n",
      "Epoch 119/200\n",
      "40/40 [==============================] - 0s 6ms/step - loss: 2.7593e-04\n",
      "Epoch 120/200\n",
      "40/40 [==============================] - 0s 6ms/step - loss: 2.7492e-04\n",
      "Epoch 121/200\n",
      "40/40 [==============================] - 0s 8ms/step - loss: 2.7447e-04\n",
      "Epoch 122/200\n",
      "40/40 [==============================] - 0s 8ms/step - loss: 2.7365e-04\n",
      "Epoch 123/200\n",
      "40/40 [==============================] - 0s 8ms/step - loss: 2.7375e-04\n",
      "Epoch 124/200\n",
      "40/40 [==============================] - 0s 8ms/step - loss: 2.7357e-04\n",
      "Epoch 125/200\n",
      "40/40 [==============================] - 0s 7ms/step - loss: 2.7214e-04\n",
      "Epoch 126/200\n",
      "40/40 [==============================] - 0s 7ms/step - loss: 2.7181e-04\n",
      "Epoch 127/200\n",
      "40/40 [==============================] - 0s 7ms/step - loss: 2.7254e-04\n",
      "Epoch 128/200\n",
      "40/40 [==============================] - 0s 7ms/step - loss: 2.7137e-04\n",
      "Epoch 129/200\n",
      "40/40 [==============================] - 0s 7ms/step - loss: 2.6995e-04\n",
      "Epoch 130/200\n",
      "40/40 [==============================] - 0s 8ms/step - loss: 2.7112e-04\n",
      "Epoch 131/200\n",
      "40/40 [==============================] - 0s 7ms/step - loss: 2.6884e-04\n",
      "Epoch 132/200\n",
      "40/40 [==============================] - 0s 7ms/step - loss: 2.7116e-04\n",
      "Epoch 133/200\n",
      "40/40 [==============================] - 0s 7ms/step - loss: 2.6886e-04\n",
      "Epoch 134/200\n",
      "40/40 [==============================] - 0s 8ms/step - loss: 2.7020e-04\n",
      "Epoch 135/200\n",
      "40/40 [==============================] - 0s 6ms/step - loss: 2.7159e-04\n",
      "Epoch 136/200\n",
      "40/40 [==============================] - 0s 6ms/step - loss: 2.6970e-04\n",
      "Epoch 137/200\n",
      "40/40 [==============================] - 0s 8ms/step - loss: 2.6860e-04\n",
      "Epoch 138/200\n",
      "40/40 [==============================] - 0s 8ms/step - loss: 2.6898e-04\n",
      "Epoch 139/200\n",
      "40/40 [==============================] - 0s 8ms/step - loss: 2.6800e-04\n",
      "Epoch 140/200\n",
      "40/40 [==============================] - 0s 9ms/step - loss: 2.6810e-04\n",
      "Epoch 141/200\n",
      "40/40 [==============================] - 0s 6ms/step - loss: 2.6673e-04\n",
      "Epoch 142/200\n",
      "40/40 [==============================] - 0s 7ms/step - loss: 2.6662e-04\n",
      "Epoch 143/200\n",
      "40/40 [==============================] - 0s 6ms/step - loss: 2.6676e-04\n",
      "Epoch 144/200\n",
      "40/40 [==============================] - 0s 10ms/step - loss: 2.6732e-04\n",
      "Epoch 145/200\n",
      "40/40 [==============================] - 0s 9ms/step - loss: 2.6628e-04\n",
      "Epoch 146/200\n",
      "40/40 [==============================] - 0s 9ms/step - loss: 2.6572e-04\n",
      "Epoch 147/200\n",
      "40/40 [==============================] - 0s 8ms/step - loss: 2.6535e-04\n",
      "Epoch 148/200\n",
      "40/40 [==============================] - 0s 7ms/step - loss: 2.6685e-04\n",
      "Epoch 149/200\n",
      "40/40 [==============================] - 0s 8ms/step - loss: 2.6487e-04\n",
      "Epoch 150/200\n",
      "40/40 [==============================] - 0s 7ms/step - loss: 2.6559e-04\n",
      "Epoch 151/200\n",
      "40/40 [==============================] - 0s 6ms/step - loss: 2.6538e-04\n",
      "Epoch 152/200\n",
      "40/40 [==============================] - 0s 7ms/step - loss: 2.6509e-04\n",
      "Epoch 153/200\n",
      "40/40 [==============================] - 0s 7ms/step - loss: 2.6498e-04\n",
      "Epoch 154/200\n",
      "40/40 [==============================] - 0s 7ms/step - loss: 2.6394e-04\n",
      "Epoch 155/200\n",
      "40/40 [==============================] - 0s 7ms/step - loss: 2.6456e-04\n",
      "Epoch 156/200\n",
      "40/40 [==============================] - 0s 8ms/step - loss: 2.7101e-04\n",
      "Epoch 157/200\n",
      "40/40 [==============================] - 0s 7ms/step - loss: 2.6473e-04\n",
      "Epoch 158/200\n",
      "40/40 [==============================] - 0s 7ms/step - loss: 2.6364e-04\n",
      "Epoch 159/200\n",
      "40/40 [==============================] - 0s 8ms/step - loss: 2.6555e-04\n",
      "Epoch 160/200\n",
      "40/40 [==============================] - 0s 6ms/step - loss: 2.6464e-04\n",
      "Epoch 161/200\n",
      "40/40 [==============================] - 0s 9ms/step - loss: 2.6394e-04\n",
      "Epoch 162/200\n",
      "40/40 [==============================] - 0s 7ms/step - loss: 2.6424e-04\n",
      "Epoch 163/200\n",
      "40/40 [==============================] - 0s 6ms/step - loss: 2.6486e-04\n",
      "Epoch 164/200\n",
      "40/40 [==============================] - 0s 7ms/step - loss: 2.6374e-04\n",
      "Epoch 165/200\n",
      "40/40 [==============================] - 0s 9ms/step - loss: 2.6377e-04\n",
      "Epoch 166/200\n",
      "40/40 [==============================] - 0s 8ms/step - loss: 2.6212e-04\n",
      "Epoch 167/200\n",
      "40/40 [==============================] - 0s 8ms/step - loss: 2.6337e-04\n",
      "Epoch 168/200\n",
      "40/40 [==============================] - 0s 7ms/step - loss: 2.6418e-04\n",
      "Epoch 169/200\n",
      "40/40 [==============================] - 0s 6ms/step - loss: 2.6442e-04\n",
      "Epoch 170/200\n",
      "40/40 [==============================] - 0s 9ms/step - loss: 2.6275e-04\n",
      "Epoch 171/200\n",
      "40/40 [==============================] - 0s 6ms/step - loss: 2.6480e-04\n",
      "Epoch 172/200\n",
      "40/40 [==============================] - 0s 7ms/step - loss: 2.6371e-04\n",
      "Epoch 173/200\n",
      "40/40 [==============================] - 0s 8ms/step - loss: 2.6265e-04\n",
      "Epoch 174/200\n",
      "40/40 [==============================] - 0s 6ms/step - loss: 2.6232e-04\n",
      "Epoch 175/200\n",
      "40/40 [==============================] - 0s 7ms/step - loss: 2.6167e-04\n",
      "Epoch 176/200\n",
      "40/40 [==============================] - 0s 8ms/step - loss: 2.6335e-04\n",
      "Epoch 177/200\n",
      "40/40 [==============================] - 0s 6ms/step - loss: 2.6226e-04\n",
      "Epoch 178/200\n",
      "40/40 [==============================] - 0s 7ms/step - loss: 2.6257e-04\n",
      "Epoch 179/200\n",
      "40/40 [==============================] - 0s 8ms/step - loss: 2.6628e-04\n",
      "Epoch 180/200\n",
      "40/40 [==============================] - 0s 7ms/step - loss: 2.6228e-04\n",
      "Epoch 181/200\n",
      "40/40 [==============================] - 0s 7ms/step - loss: 2.6208e-04\n",
      "Epoch 182/200\n",
      "40/40 [==============================] - 0s 7ms/step - loss: 2.6335e-04\n",
      "Epoch 183/200\n",
      "40/40 [==============================] - 0s 5ms/step - loss: 2.6657e-04\n",
      "Epoch 184/200\n",
      "40/40 [==============================] - 0s 7ms/step - loss: 2.6222e-04\n",
      "Epoch 185/200\n",
      "40/40 [==============================] - 0s 7ms/step - loss: 2.6662e-04\n",
      "Epoch 186/200\n",
      "40/40 [==============================] - 0s 8ms/step - loss: 2.6197e-04\n",
      "Epoch 187/200\n",
      "40/40 [==============================] - 0s 8ms/step - loss: 2.6374e-04\n",
      "Epoch 188/200\n",
      "40/40 [==============================] - 0s 7ms/step - loss: 2.6484e-04\n",
      "Epoch 189/200\n",
      "40/40 [==============================] - 0s 6ms/step - loss: 2.6101e-04\n",
      "Epoch 190/200\n",
      "40/40 [==============================] - 0s 7ms/step - loss: 2.6182e-04\n",
      "Epoch 191/200\n",
      "40/40 [==============================] - 0s 8ms/step - loss: 2.6242e-04\n",
      "Epoch 192/200\n",
      "40/40 [==============================] - 0s 7ms/step - loss: 2.6095e-04\n",
      "Epoch 193/200\n",
      "40/40 [==============================] - 0s 7ms/step - loss: 2.6077e-04\n",
      "Epoch 194/200\n",
      "40/40 [==============================] - 0s 6ms/step - loss: 2.6234e-04\n",
      "Epoch 195/200\n"
     ]
    },
    {
     "name": "stdout",
     "output_type": "stream",
     "text": [
      "40/40 [==============================] - 0s 7ms/step - loss: 2.6096e-04\n",
      "Epoch 196/200\n",
      "40/40 [==============================] - 0s 6ms/step - loss: 2.6387e-04\n",
      "Epoch 197/200\n",
      "40/40 [==============================] - 0s 6ms/step - loss: 2.6617e-04\n",
      "Epoch 198/200\n",
      "40/40 [==============================] - 0s 6ms/step - loss: 2.6253e-04\n",
      "Epoch 199/200\n",
      "40/40 [==============================] - 0s 7ms/step - loss: 2.6181e-04\n",
      "Epoch 200/200\n",
      "40/40 [==============================] - 0s 6ms/step - loss: 2.6306e-04\n"
     ]
    },
    {
     "data": {
      "text/plain": [
       "<keras.callbacks.History at 0x20a0f14f580>"
      ]
     },
     "execution_count": 13,
     "metadata": {},
     "output_type": "execute_result"
    }
   ],
   "source": [
    "rnn_regressor.fit(X_train, y_train, batch_size=32, epochs=200)"
   ]
  },
  {
   "cell_type": "markdown",
   "metadata": {
    "id": "-YGK_6oRt0h8"
   },
   "source": [
    "**Step 2.6 :** Predicting and Visualizing the training results"
   ]
  },
  {
   "cell_type": "code",
   "execution_count": 14,
   "metadata": {
    "id": "DKTST9Z72te6"
   },
   "outputs": [
    {
     "name": "stdout",
     "output_type": "stream",
     "text": [
      "40/40 [==============================] - 1s 5ms/step\n"
     ]
    }
   ],
   "source": [
    "# predicting the training results\n",
    "predicted_stock_price_train = rnn_regressor.predict(X_train)\n",
    "predicted_stock_price_train = sc.inverse_transform(predicted_stock_price_train)"
   ]
  },
  {
   "cell_type": "code",
   "execution_count": 15,
   "metadata": {
    "id": "rxt5jvCz2wUm",
    "outputId": "5f1620a5-9cb7-44cf-98d8-09ca7c70a15a"
   },
   "outputs": [
    {
     "data": {
      "image/png": "[encoded data removed]",
      "text/plain": [
       "<Figure size 1440x720 with 1 Axes>"
      ]
     },
     "metadata": {
      "needs_background": "light"
     },
     "output_type": "display_data"
    }
   ],
   "source": [
    "# visualizing the training results\n",
    "import matplotlib.pyplot as plt\n",
    "plt.figure(figsize=(20,10))\n",
    "plt.plot(real_stock_price_train, color = 'red', label='Real Google Stock Price')\n",
    "plt.plot(predicted_stock_price_train, color = 'blue', label='Predicted Google Stock Price')\n",
    "plt.title('Google Stock Price Prediction')\n",
    "plt.xlabel('Time')\n",
    "plt.ylabel('Stock Price')\n",
    "plt.legend()\n",
    "plt.show()"
   ]
  },
  {
   "cell_type": "markdown",
   "metadata": {
    "id": "ZuQ9oa7duKQI"
   },
   "source": [
    "## **Step - 3 :** Making predictions and visualizing results for testing set"
   ]
  },
  {
   "cell_type": "code",
   "execution_count": 16,
   "metadata": {
    "id": "dCnIWWcx2yoE",
    "outputId": "0979a4d4-4425-4b59-96a9-659af307b807"
   },
   "outputs": [
    {
     "data": {
      "text/html": [
       "<div>\n",
       "<style scoped>\n",
       "    .dataframe tbody tr th:only-of-type {\n",
       "        vertical-align: middle;\n",
       "    }\n",
       "\n",
       "    .dataframe tbody tr th {\n",
       "        vertical-align: top;\n",
       "    }\n",
       "\n",
       "    .dataframe thead th {\n",
       "        text-align: right;\n",
       "    }\n",
       "</style>\n",
       "<table border=\"1\" class=\"dataframe\">\n",
       "  <thead>\n",
       "    <tr style=\"text-align: right;\">\n",
       "      <th></th>\n",
       "      <th>Date</th>\n",
       "      <th>Open</th>\n",
       "      <th>High</th>\n",
       "      <th>Low</th>\n",
       "      <th>Close</th>\n",
       "      <th>Volume</th>\n",
       "    </tr>\n",
       "  </thead>\n",
       "  <tbody>\n",
       "    <tr>\n",
       "      <th>0</th>\n",
       "      <td>1/3/2017</td>\n",
       "      <td>778.81</td>\n",
       "      <td>789.63</td>\n",
       "      <td>775.80</td>\n",
       "      <td>786.14</td>\n",
       "      <td>1,657,300</td>\n",
       "    </tr>\n",
       "    <tr>\n",
       "      <th>1</th>\n",
       "      <td>1/4/2017</td>\n",
       "      <td>788.36</td>\n",
       "      <td>791.34</td>\n",
       "      <td>783.16</td>\n",
       "      <td>786.90</td>\n",
       "      <td>1,073,000</td>\n",
       "    </tr>\n",
       "    <tr>\n",
       "      <th>2</th>\n",
       "      <td>1/5/2017</td>\n",
       "      <td>786.08</td>\n",
       "      <td>794.48</td>\n",
       "      <td>785.02</td>\n",
       "      <td>794.02</td>\n",
       "      <td>1,335,200</td>\n",
       "    </tr>\n",
       "    <tr>\n",
       "      <th>3</th>\n",
       "      <td>1/6/2017</td>\n",
       "      <td>795.26</td>\n",
       "      <td>807.90</td>\n",
       "      <td>792.20</td>\n",
       "      <td>806.15</td>\n",
       "      <td>1,640,200</td>\n",
       "    </tr>\n",
       "    <tr>\n",
       "      <th>4</th>\n",
       "      <td>1/9/2017</td>\n",
       "      <td>806.40</td>\n",
       "      <td>809.97</td>\n",
       "      <td>802.83</td>\n",
       "      <td>806.65</td>\n",
       "      <td>1,272,400</td>\n",
       "    </tr>\n",
       "  </tbody>\n",
       "</table>\n",
       "</div>"
      ],
      "text/plain": [
       "       Date    Open    High     Low   Close     Volume\n",
       "0  1/3/2017  778.81  789.63  775.80  786.14  1,657,300\n",
       "1  1/4/2017  788.36  791.34  783.16  786.90  1,073,000\n",
       "2  1/5/2017  786.08  794.48  785.02  794.02  1,335,200\n",
       "3  1/6/2017  795.26  807.90  792.20  806.15  1,640,200\n",
       "4  1/9/2017  806.40  809.97  802.83  806.65  1,272,400"
      ]
     },
     "execution_count": 16,
     "metadata": {},
     "output_type": "execute_result"
    }
   ],
   "source": [
    "testing = pd.read_csv(\"./Google_Stock_Price_Test.csv\")\n",
    "testing.head()"
   ]
  },
  {
   "cell_type": "markdown",
   "metadata": {
    "id": "1akxAazYuW-D"
   },
   "source": [
    "**Step 3.1 :** Performing similar pre-prcoessing as performed on training set"
   ]
  },
  {
   "cell_type": "code",
   "execution_count": 17,
   "metadata": {
    "id": "czCv-Wj329Sq"
   },
   "outputs": [],
   "source": [
    "# taking the column of \"open\" value of stock price\n",
    "real_stock_price_test = testing.iloc[:, 1:2].values"
   ]
  },
  {
   "cell_type": "code",
   "execution_count": 18,
   "metadata": {
    "id": "AXZUWQjg3HxI"
   },
   "outputs": [],
   "source": [
    "# feature Scaling\n",
    "inputs = sc.transform(real_stock_price_test)"
   ]
  },
  {
   "cell_type": "markdown",
   "metadata": {
    "id": "pp7G0HEtaPEv"
   },
   "source": [
    "**Note -** We do only \".transform\" and not \"fit.transform\" and we use the same scaler 'sc' we used while standardzing the training data because the scaling should be done with respect to the training data and not the testing set because the minimum and maximum of the training and testing sets may vary"
   ]
  },
  {
   "cell_type": "code",
   "execution_count": 19,
   "metadata": {
    "id": "KJj-B8Dt3I1d"
   },
   "outputs": [],
   "source": [
    "# reshaping\n",
    "inputs = np.reshape(inputs, (20, 1, 1))     # only 20 observations in testing set"
   ]
  },
  {
   "cell_type": "code",
   "execution_count": 20,
   "metadata": {
    "id": "suLG2_oh3KTh"
   },
   "outputs": [
    {
     "name": "stdout",
     "output_type": "stream",
     "text": [
      "1/1 [==============================] - 0s 136ms/step\n"
     ]
    }
   ],
   "source": [
    "# predicting the stock price (for the year 2017)\n",
    "predicted_stock_price_test = rnn_regressor.predict(inputs)     # but these are the scaled values"
   ]
  },
  {
   "cell_type": "markdown",
   "metadata": {
    "id": "GInpWRqcuvSR"
   },
   "source": [
    "**Step 3.2 :** Performing inverse scaling"
   ]
  },
  {
   "cell_type": "code",
   "execution_count": 21,
   "metadata": {
    "id": "KrQ8ToAO3LsT"
   },
   "outputs": [],
   "source": [
    "predicted_stock_price_test = sc.inverse_transform(predicted_stock_price_test)"
   ]
  },
  {
   "cell_type": "code",
   "execution_count": 22,
   "metadata": {
    "id": "rwkdPX3v3M0-",
    "outputId": "16eaf771-b025-4844-d10b-f166395701b8"
   },
   "outputs": [
    {
     "data": {
      "image/png": "[encoded data removed]",
      "text/plain": [
       "<Figure size 1440x720 with 1 Axes>"
      ]
     },
     "metadata": {
      "needs_background": "light"
     },
     "output_type": "display_data"
    }
   ],
   "source": [
    "# visualizing the results for testing\n",
    "plt.figure(figsize=(20,10))\n",
    "plt.plot(real_stock_price_test, color = 'red', label='Real Google Stock Price')\n",
    "plt.plot(predicted_stock_price_test, color = 'blue', label='Predicted Google Stock Price')\n",
    "plt.title('Google Stock Price Prediction (Test Set)')\n",
    "plt.xlabel('Time')\n",
    "plt.ylabel('Stock Price')\n",
    "plt.legend()\n",
    "plt.show()"
   ]
  },
  {
   "cell_type": "markdown",
   "metadata": {
    "id": "DClc1DBqvDVn"
   },
   "source": [
    "## **Conclusions**\n",
    "* As there is 1 time step between the input and the output, that makes it one time step prediction\n",
    "* It is seen that the predictions are actually following the real google stock prices\n",
    "* If we imagine today is the 1st day of 2017 and we want to predict stock price for the next 60 days, we won't get these accurate results as our model was trained for 1 time step prediction\n",
    "* As amazing as that sounds it would be hard to get such close predictions because in finance, the future variations may not always be dependent on the past, hence its nearly impossible to make long term predictions of stock price"
   ]
  },
  {
   "cell_type": "markdown",
   "metadata": {
    "id": "2NNXKd3mvr4z"
   },
   "source": [
    "## **Step - 4 :** Evaluating the RNN"
   ]
  },
  {
   "cell_type": "markdown",
   "metadata": {
    "id": "wDfOb5e_wHsJ"
   },
   "source": [
    "### **Interpretation of RMSE value :**\n",
    "* It is a way of figuring out how much a model disagrees with the actual data"
   ]
  },
  {
   "cell_type": "code",
   "execution_count": 23,
   "metadata": {
    "id": "x8CJKAkU3ahx",
    "outputId": "02918f94-eebd-4be0-d120-a4a0299787de"
   },
   "outputs": [
    {
     "name": "stdout",
     "output_type": "stream",
     "text": [
      "The RMSE value is 8.249653435793235\n"
     ]
    }
   ],
   "source": [
    "from sklearn.metrics import mean_squared_error\n",
    "rmse = np.sqrt(mean_squared_error(real_stock_price_test, predicted_stock_price_test))\n",
    "print('The RMSE value is', rmse)"
   ]
  },
  {
   "cell_type": "markdown",
   "metadata": {
    "id": "kakc3rSUxt6o"
   },
   "source": [
    "* We need to express this as percentage of the orignal value coz it may tell there is a prediction error of 7, but that error won't mean the same thing whether the orignal stock price was betn 1 and 10 or betn 1000 and 10000\n",
    "* Generally a good rmse expressed in terms of percentage is around or less than 1%"
   ]
  },
  {
   "cell_type": "code",
   "execution_count": 24,
   "metadata": {
    "id": "kRiWtjc7xHyH",
    "outputId": "0ead3768-881f-4117-ef1c-d62f9ef3d405"
   },
   "outputs": [
    {
     "name": "stdout",
     "output_type": "stream",
     "text": [
      "RMSE in terms of % of the orignal value is 1.02 %\n"
     ]
    }
   ],
   "source": [
    "print('RMSE in terms of % of the orignal value is', round((rmse/real_stock_price_test.mean()*100), 2) , '%')   \n",
    "# we take the avg because it would be a true representative of the real stock values"
   ]
  }
 ],
 "metadata": {
  "kernelspec": {
   "display_name": "Python 3 (ipykernel)",
   "language": "python",
   "name": "python3"
  },
  "language_info": {
   "codemirror_mode": {
    "name": "ipython",
    "version": 3
   },
   "file_extension": ".py",
   "mimetype": "text/x-python",
   "name": "python",
   "nbconvert_exporter": "python",
   "pygments_lexer": "ipython3",
   "version": "3.9.0"
  }
 },
 "nbformat": 4,
 "nbformat_minor": 4
}
