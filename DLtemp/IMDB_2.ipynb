{
 "cells": [
  {
   "cell_type": "code",
   "execution_count": 6,
   "id": "c143e892",
   "metadata": {},
   "outputs": [
    {
     "name": "stdout",
     "output_type": "stream",
     "text": [
      "Collecting Keras-Preprocessing\n",
      "  Downloading Keras_Preprocessing-1.1.2-py2.py3-none-any.whl (42 kB)\n",
      "     -------------------------------------- 42.6/42.6 kB 294.0 kB/s eta 0:00:00\n",
      "Requirement already satisfied: numpy>=1.9.1 in c:\\users\\kamal\\appdata\\local\\programs\\python\\python39\\lib\\site-packages (from Keras-Preprocessing) (1.23.5)\n",
      "Requirement already satisfied: six>=1.9.0 in c:\\users\\kamal\\appdata\\roaming\\python\\python39\\site-packages (from Keras-Preprocessing) (1.15.0)\n",
      "Installing collected packages: Keras-Preprocessing\n",
      "Successfully installed Keras-Preprocessing-1.1.2\n"
     ]
    }
   ],
   "source": [
    "!pip install Keras-Preprocessing\n"
   ]
  },
  {
   "cell_type": "code",
   "execution_count": 7,
   "id": "8e37f121",
   "metadata": {},
   "outputs": [],
   "source": [
    "import numpy as np\n",
    "from keras import models, layers, optimizers\n",
    "from keras.preprocessing.text import Tokenizer\n",
    "from keras_preprocessing.sequence import pad_sequences\n",
    "from tensorflow.keras.utils import to_categorical\n",
    "import pandas as pd\n",
    "from sklearn import preprocessing\n",
    "# Load the data\n",
    "df=pd.read_csv(\"IMDB Dataset.csv\")\n",
    "\n"
   ]
  },
  {
   "cell_type": "code",
   "execution_count": 8,
   "id": "888b45f6",
   "metadata": {},
   "outputs": [],
   "source": [
    "train_df = df.sample(frac=0.8, random_state=25)\n",
    "test_df = df.drop(train_df.index)\n"
   ]
  },
  {
   "cell_type": "code",
   "execution_count": 9,
   "id": "5817db76",
   "metadata": {},
   "outputs": [
    {
     "name": "stdout",
     "output_type": "stream",
     "text": [
      "                                                  review sentiment\n",
      "13920  Kudos to Fawcett to taking on roles that, at t...  positive\n",
      "23439  If you are a fan of early Duke movies, this Lo...  positive\n",
      "11851  I'd love to give this movie a 10/10, but in it...  positive\n",
      "8278   The credits at the end read \"ALL directed by S...  negative\n",
      "31258  This young filmmaker has a talent for capturin...  positive\n",
      "...                                                  ...       ...\n",
      "38608  I just got back from a screening a couple of h...  positive\n",
      "48009  OK, I don't want to upset anyone who enjoyed t...  negative\n",
      "9184   i just watched the movie i was afraid it's gon...  positive\n",
      "49448  There are few films that leave me with the fee...  positive\n",
      "11381  I watched this movie with my boyfriend, an avi...  negative\n",
      "\n",
      "[40000 rows x 2 columns]\n"
     ]
    }
   ],
   "source": [
    "print(train_df)"
   ]
  },
  {
   "cell_type": "code",
   "execution_count": 10,
   "id": "084923e4",
   "metadata": {},
   "outputs": [
    {
     "name": "stdout",
     "output_type": "stream",
     "text": [
      "                                                  review sentiment\n",
      "20     After the success of Die Hard and it's sequels...  positive\n",
      "22     What an absolutely stunning movie, if you have...  positive\n",
      "28     This movie was so frustrating. Everything seem...  negative\n",
      "32     My first exposure to the Templarios & not a go...  negative\n",
      "49     Average (and surprisingly tame) Fulci giallo w...  negative\n",
      "...                                                  ...       ...\n",
      "49981  And I repeat, please do not see this movie! Th...  negative\n",
      "49986  This movie is a disgrace to the Major League F...  negative\n",
      "49989  I got this one a few weeks ago and love it! It...  positive\n",
      "49994  This is your typical junk comedy.<br /><br />T...  negative\n",
      "49998  I'm going to have to disagree with the previou...  negative\n",
      "\n",
      "[10000 rows x 2 columns]\n"
     ]
    }
   ],
   "source": [
    "print(test_df)"
   ]
  },
  {
   "cell_type": "code",
   "execution_count": 11,
   "id": "9e446b7a",
   "metadata": {},
   "outputs": [],
   "source": [
    "# Tokenize the text data\n",
    "tokenizer = Tokenizer(num_words=10000) \n",
    "tokenizer.fit_on_texts(train_df['review'].tolist())\n",
    "\n",
    "# Convert the text data to sequences of integers\n",
    "train_sequences = tokenizer.texts_to_sequences(train_df['review'].tolist())\n",
    "test_sequences = tokenizer.texts_to_sequences(test_df['review'].tolist())\n",
    "\n",
    "# Pad the sequences to a fixed length\n",
    "max_length = 100\n",
    "train_data = pad_sequences(train_sequences, maxlen=max_length)\n",
    "test_data = pad_sequences(test_sequences, maxlen=max_length)\n",
    "\n",
    "# Convert the labels to categorical\n",
    "label_encoder = preprocessing.LabelEncoder()\n",
    "train_labels= label_encoder.fit_transform(train_df['sentiment'])\n",
    "#train_labels = to_categorical(train_df['sentiment'])\n"
   ]
  },
  {
   "cell_type": "code",
   "execution_count": 12,
   "id": "dbe642c6",
   "metadata": {},
   "outputs": [],
   "source": [
    "model = models.Sequential()\n",
    "model.add(layers.Embedding(10000, 64, input_length=max_length))\n",
    "model.add(layers.Flatten())\n",
    "model.add(layers.Dense(32, activation='relu'))\n",
    "model.add(layers.Dropout(0.5))\n",
    "model.add(layers.Dense(1, activation='sigmoid'))\n"
   ]
  },
  {
   "cell_type": "code",
   "execution_count": 13,
   "id": "727968fd",
   "metadata": {},
   "outputs": [],
   "source": [
    " model.compile(optimizer='adam', loss='binary_crossentropy', metrics=['accuracy'])\n"
   ]
  },
  {
   "cell_type": "code",
   "execution_count": 14,
   "id": "57876b00",
   "metadata": {},
   "outputs": [
    {
     "name": "stdout",
     "output_type": "stream",
     "text": [
      "Epoch 1/10\n",
      "1000/1000 [==============================] - 21s 19ms/step - loss: 0.4237 - accuracy: 0.7939 - val_loss: 0.3224 - val_accuracy: 0.8584\n",
      "Epoch 2/10\n",
      "1000/1000 [==============================] - 19s 19ms/step - loss: 0.1613 - accuracy: 0.9411 - val_loss: 0.4170 - val_accuracy: 0.8445\n",
      "Epoch 3/10\n",
      "1000/1000 [==============================] - 19s 19ms/step - loss: 0.0308 - accuracy: 0.9921 - val_loss: 0.6161 - val_accuracy: 0.8416\n",
      "Epoch 4/10\n",
      "1000/1000 [==============================] - 20s 20ms/step - loss: 0.0074 - accuracy: 0.9983 - val_loss: 0.7791 - val_accuracy: 0.8396\n",
      "Epoch 5/10\n",
      "1000/1000 [==============================] - 17s 17ms/step - loss: 0.0038 - accuracy: 0.9992 - val_loss: 0.9080 - val_accuracy: 0.8410\n",
      "Epoch 6/10\n",
      "1000/1000 [==============================] - 17s 17ms/step - loss: 0.0083 - accuracy: 0.9974 - val_loss: 0.9476 - val_accuracy: 0.8326\n",
      "Epoch 7/10\n",
      "1000/1000 [==============================] - 17s 17ms/step - loss: 0.0129 - accuracy: 0.9957 - val_loss: 1.0079 - val_accuracy: 0.8305\n",
      "Epoch 8/10\n",
      "1000/1000 [==============================] - 17s 17ms/step - loss: 0.0061 - accuracy: 0.9983 - val_loss: 1.1618 - val_accuracy: 0.8322\n",
      "Epoch 9/10\n",
      "1000/1000 [==============================] - 17s 17ms/step - loss: 0.0054 - accuracy: 0.9985 - val_loss: 1.2686 - val_accuracy: 0.8317\n",
      "Epoch 10/10\n",
      "1000/1000 [==============================] - 17s 17ms/step - loss: 0.0056 - accuracy: 0.9980 - val_loss: 1.2626 - val_accuracy: 0.8371\n"
     ]
    }
   ],
   "source": [
    "history = model.fit(train_data, train_labels, epochs=10, batch_size=32, validation_split=0.2)\n"
   ]
  },
  {
   "cell_type": "code",
   "execution_count": 9,
   "id": "68bd4d32",
   "metadata": {},
   "outputs": [
    {
     "name": "stdout",
     "output_type": "stream",
     "text": [
      "0\n",
      "313/313 [==============================] - 1s 2ms/step - loss: 1.2979 - accuracy: 0.8369\n",
      "Test accuracy: 0.836899995803833\n"
     ]
    }
   ],
   "source": [
    "test_labels= label_encoder.fit_transform(test_df['sentiment'])\n",
    "print(test_labels[2])\n",
    "#test_labels = to_categorical(test_df['sentiment'])\n",
    "test_loss, test_acc = model.evaluate(test_data, test_labels)\n",
    "print('Test accuracy:', test_acc)\n"
   ]
  },
  {
   "cell_type": "code",
   "execution_count": 15,
   "id": "34236bd0",
   "metadata": {},
   "outputs": [
    {
     "data": {
      "image/png": "[encoded data removed]",
      "text/plain": [
       "<Figure size 432x288 with 1 Axes>"
      ]
     },
     "metadata": {
      "needs_background": "light"
     },
     "output_type": "display_data"
    }
   ],
   "source": [
    "import matplotlib.pyplot as plt\n",
    "plt.plot(history.history['loss'], label='Training Loss')\n",
    "plt.plot(history.history['val_loss'], label='Validation Loss')\n",
    "plt.xlabel('Epoch')\n",
    "plt.ylabel('Loss')\n",
    "plt.legend()\n",
    "plt.show()\n"
   ]
  },
  {
   "cell_type": "code",
   "execution_count": 16,
   "id": "6574d9f1",
   "metadata": {},
   "outputs": [
    {
     "data": {
      "image/png": "[encoded data removed]",
      "text/plain": [
       "<Figure size 432x288 with 1 Axes>"
      ]
     },
     "metadata": {
      "needs_background": "light"
     },
     "output_type": "display_data"
    }
   ],
   "source": [
    "plt.plot(history.history['accuracy'], label='Training Accuracy')\n",
    "plt.plot(history.history['val_accuracy'], label='Validation Accuracy')\n",
    "plt.xlabel('Epoch')\n",
    "plt.ylabel('Accuracy')\n",
    "plt.legend()\n",
    "plt.show()"
   ]
  },
  {
   "cell_type": "code",
   "execution_count": 17,
   "id": "afafc421",
   "metadata": {},
   "outputs": [
    {
     "name": "stdout",
     "output_type": "stream",
     "text": [
      "313/313 [==============================] - 1s 3ms/step\n"
     ]
    }
   ],
   "source": [
    "predictions = model.predict(test_data)"
   ]
  },
  {
   "cell_type": "code",
   "execution_count": 18,
   "id": "779b4f0d",
   "metadata": {},
   "outputs": [],
   "source": [
    "text = tokenizer.sequences_to_texts(test_data)"
   ]
  },
  {
   "cell_type": "code",
   "execution_count": 19,
   "id": "4095797f",
   "metadata": {},
   "outputs": [],
   "source": [
    "pred = np.zeros(len(predictions))\n",
    "for i, score in enumerate(predictions):\n",
    "    pred[i] = np.round(score)\n",
    "    \n",
    "predicted_sentiments = ['positive' if label == 1 else 'negative' for label in pred]    "
   ]
  },
  {
   "cell_type": "code",
   "execution_count": 20,
   "id": "3a7f7236",
   "metadata": {},
   "outputs": [
    {
     "name": "stdout",
     "output_type": "stream",
     "text": [
      "Review text: average and surprisingly tame fulci giallo which means it's still quite bad by normal standards but by its solid build up and some nice touches such as a neat time twist on the issues of visions and br br the well known weaknesses are in full gear banal dialogue wooden acting illogical plot points and the finale goes on much too long while the denouement proves to be a rather lame or shall i say limp affair br br fulci's ironic handling of giallo is amusing though yellow clues wherever you look br br 3 out of 10 killers\n",
      "\n",
      "Review : positive\n"
     ]
    }
   ],
   "source": [
    "print(f\"Review text: {text[4]}\\n\")\n",
    "print(f\"Review : {predicted_sentiments[4]}\")\n"
   ]
  },
  {
   "cell_type": "code",
   "execution_count": null,
   "id": "fe8b6d6a",
   "metadata": {},
   "outputs": [],
   "source": []
  },
  {
   "cell_type": "code",
   "execution_count": null,
   "id": "dfd6eef7",
   "metadata": {},
   "outputs": [],
   "source": []
  }
 ],
 "metadata": {
  "kernelspec": {
   "display_name": "Python 3 (ipykernel)",
   "language": "python",
   "name": "python3"
  },
  "language_info": {
   "codemirror_mode": {
    "name": "ipython",
    "version": 3
   },
   "file_extension": ".py",
   "mimetype": "text/x-python",
   "name": "python",
   "nbconvert_exporter": "python",
   "pygments_lexer": "ipython3",
   "version": "3.9.0"
  }
 },
 "nbformat": 4,
 "nbformat_minor": 5
}
