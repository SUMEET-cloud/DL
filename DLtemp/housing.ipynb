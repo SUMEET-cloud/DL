{
 "cells": [
  {
   "cell_type": "code",
   "execution_count": 1,
   "id": "1d6c1dfb",
   "metadata": {},
   "outputs": [],
   "source": [
    "import tensorflow as tf\n",
    "from sklearn.datasets import load_boston\n",
    "from sklearn.model_selection import train_test_split\n",
    "from sklearn.preprocessing import StandardScaler\n",
    "import pandas as pd"
   ]
  },
  {
   "cell_type": "code",
   "execution_count": 2,
   "id": "031054e7",
   "metadata": {},
   "outputs": [],
   "source": [
    "# Load the Boston Housing Price Prediction dataset\n",
    "column_names = ['CRIM', 'ZN', 'INDUS', 'CHAS', 'NOX', 'RM', 'AGE', 'DIS', 'RAD', 'TAX', 'PTRATIO', 'B', 'LSTAT', 'MEDV']\n",
    "boston = pd.read_csv('./housing.csv', header=None, delimiter=r\"\\s+\", names=column_names)\n"
   ]
  },
  {
   "cell_type": "code",
   "execution_count": 3,
   "id": "1e07cc8a",
   "metadata": {},
   "outputs": [],
   "source": [
    "#First look at the dataset"
   ]
  },
  {
   "cell_type": "code",
   "execution_count": 4,
   "id": "d0dd55c1",
   "metadata": {},
   "outputs": [
    {
     "name": "stdout",
     "output_type": "stream",
     "text": [
      "(506, 14)\n"
     ]
    }
   ],
   "source": [
    "print(boston.shape)"
   ]
  },
  {
   "cell_type": "code",
   "execution_count": 5,
   "id": "4ca48ae1",
   "metadata": {},
   "outputs": [
    {
     "data": {
      "text/plain": [
       "CRIM       0\n",
       "ZN         0\n",
       "INDUS      0\n",
       "CHAS       0\n",
       "NOX        0\n",
       "RM         0\n",
       "AGE        0\n",
       "DIS        0\n",
       "RAD        0\n",
       "TAX        0\n",
       "PTRATIO    0\n",
       "B          0\n",
       "LSTAT      0\n",
       "MEDV       0\n",
       "dtype: int64"
      ]
     },
     "execution_count": 5,
     "metadata": {},
     "output_type": "execute_result"
    }
   ],
   "source": [
    "boston.isnull().sum()"
   ]
  },
  {
   "cell_type": "code",
   "execution_count": 6,
   "id": "fe2030de",
   "metadata": {},
   "outputs": [
    {
     "data": {
      "text/html": [
       "<div>\n",
       "<style scoped>\n",
       "    .dataframe tbody tr th:only-of-type {\n",
       "        vertical-align: middle;\n",
       "    }\n",
       "\n",
       "    .dataframe tbody tr th {\n",
       "        vertical-align: top;\n",
       "    }\n",
       "\n",
       "    .dataframe thead th {\n",
       "        text-align: right;\n",
       "    }\n",
       "</style>\n",
       "<table border=\"1\" class=\"dataframe\">\n",
       "  <thead>\n",
       "    <tr style=\"text-align: right;\">\n",
       "      <th></th>\n",
       "      <th>CRIM</th>\n",
       "      <th>ZN</th>\n",
       "      <th>INDUS</th>\n",
       "      <th>CHAS</th>\n",
       "      <th>NOX</th>\n",
       "      <th>RM</th>\n",
       "      <th>AGE</th>\n",
       "      <th>DIS</th>\n",
       "      <th>RAD</th>\n",
       "      <th>TAX</th>\n",
       "      <th>PTRATIO</th>\n",
       "      <th>B</th>\n",
       "      <th>LSTAT</th>\n",
       "      <th>MEDV</th>\n",
       "    </tr>\n",
       "  </thead>\n",
       "  <tbody>\n",
       "    <tr>\n",
       "      <th>count</th>\n",
       "      <td>506.000000</td>\n",
       "      <td>506.000000</td>\n",
       "      <td>506.000000</td>\n",
       "      <td>506.000000</td>\n",
       "      <td>506.000000</td>\n",
       "      <td>506.000000</td>\n",
       "      <td>506.000000</td>\n",
       "      <td>506.000000</td>\n",
       "      <td>506.000000</td>\n",
       "      <td>506.000000</td>\n",
       "      <td>506.000000</td>\n",
       "      <td>506.000000</td>\n",
       "      <td>506.000000</td>\n",
       "      <td>506.000000</td>\n",
       "    </tr>\n",
       "    <tr>\n",
       "      <th>mean</th>\n",
       "      <td>3.613524</td>\n",
       "      <td>11.363636</td>\n",
       "      <td>11.136779</td>\n",
       "      <td>0.069170</td>\n",
       "      <td>0.554695</td>\n",
       "      <td>6.284634</td>\n",
       "      <td>68.574901</td>\n",
       "      <td>3.795043</td>\n",
       "      <td>9.549407</td>\n",
       "      <td>408.237154</td>\n",
       "      <td>18.455534</td>\n",
       "      <td>356.674032</td>\n",
       "      <td>12.653063</td>\n",
       "      <td>22.532806</td>\n",
       "    </tr>\n",
       "    <tr>\n",
       "      <th>std</th>\n",
       "      <td>8.601545</td>\n",
       "      <td>23.322453</td>\n",
       "      <td>6.860353</td>\n",
       "      <td>0.253994</td>\n",
       "      <td>0.115878</td>\n",
       "      <td>0.702617</td>\n",
       "      <td>28.148861</td>\n",
       "      <td>2.105710</td>\n",
       "      <td>8.707259</td>\n",
       "      <td>168.537116</td>\n",
       "      <td>2.164946</td>\n",
       "      <td>91.294864</td>\n",
       "      <td>7.141062</td>\n",
       "      <td>9.197104</td>\n",
       "    </tr>\n",
       "    <tr>\n",
       "      <th>min</th>\n",
       "      <td>0.006320</td>\n",
       "      <td>0.000000</td>\n",
       "      <td>0.460000</td>\n",
       "      <td>0.000000</td>\n",
       "      <td>0.385000</td>\n",
       "      <td>3.561000</td>\n",
       "      <td>2.900000</td>\n",
       "      <td>1.129600</td>\n",
       "      <td>1.000000</td>\n",
       "      <td>187.000000</td>\n",
       "      <td>12.600000</td>\n",
       "      <td>0.320000</td>\n",
       "      <td>1.730000</td>\n",
       "      <td>5.000000</td>\n",
       "    </tr>\n",
       "    <tr>\n",
       "      <th>25%</th>\n",
       "      <td>0.082045</td>\n",
       "      <td>0.000000</td>\n",
       "      <td>5.190000</td>\n",
       "      <td>0.000000</td>\n",
       "      <td>0.449000</td>\n",
       "      <td>5.885500</td>\n",
       "      <td>45.025000</td>\n",
       "      <td>2.100175</td>\n",
       "      <td>4.000000</td>\n",
       "      <td>279.000000</td>\n",
       "      <td>17.400000</td>\n",
       "      <td>375.377500</td>\n",
       "      <td>6.950000</td>\n",
       "      <td>17.025000</td>\n",
       "    </tr>\n",
       "    <tr>\n",
       "      <th>50%</th>\n",
       "      <td>0.256510</td>\n",
       "      <td>0.000000</td>\n",
       "      <td>9.690000</td>\n",
       "      <td>0.000000</td>\n",
       "      <td>0.538000</td>\n",
       "      <td>6.208500</td>\n",
       "      <td>77.500000</td>\n",
       "      <td>3.207450</td>\n",
       "      <td>5.000000</td>\n",
       "      <td>330.000000</td>\n",
       "      <td>19.050000</td>\n",
       "      <td>391.440000</td>\n",
       "      <td>11.360000</td>\n",
       "      <td>21.200000</td>\n",
       "    </tr>\n",
       "    <tr>\n",
       "      <th>75%</th>\n",
       "      <td>3.677083</td>\n",
       "      <td>12.500000</td>\n",
       "      <td>18.100000</td>\n",
       "      <td>0.000000</td>\n",
       "      <td>0.624000</td>\n",
       "      <td>6.623500</td>\n",
       "      <td>94.075000</td>\n",
       "      <td>5.188425</td>\n",
       "      <td>24.000000</td>\n",
       "      <td>666.000000</td>\n",
       "      <td>20.200000</td>\n",
       "      <td>396.225000</td>\n",
       "      <td>16.955000</td>\n",
       "      <td>25.000000</td>\n",
       "    </tr>\n",
       "    <tr>\n",
       "      <th>max</th>\n",
       "      <td>88.976200</td>\n",
       "      <td>100.000000</td>\n",
       "      <td>27.740000</td>\n",
       "      <td>1.000000</td>\n",
       "      <td>0.871000</td>\n",
       "      <td>8.780000</td>\n",
       "      <td>100.000000</td>\n",
       "      <td>12.126500</td>\n",
       "      <td>24.000000</td>\n",
       "      <td>711.000000</td>\n",
       "      <td>22.000000</td>\n",
       "      <td>396.900000</td>\n",
       "      <td>37.970000</td>\n",
       "      <td>50.000000</td>\n",
       "    </tr>\n",
       "  </tbody>\n",
       "</table>\n",
       "</div>"
      ],
      "text/plain": [
       "             CRIM          ZN       INDUS        CHAS         NOX          RM  \\\n",
       "count  506.000000  506.000000  506.000000  506.000000  506.000000  506.000000   \n",
       "mean     3.613524   11.363636   11.136779    0.069170    0.554695    6.284634   \n",
       "std      8.601545   23.322453    6.860353    0.253994    0.115878    0.702617   \n",
       "min      0.006320    0.000000    0.460000    0.000000    0.385000    3.561000   \n",
       "25%      0.082045    0.000000    5.190000    0.000000    0.449000    5.885500   \n",
       "50%      0.256510    0.000000    9.690000    0.000000    0.538000    6.208500   \n",
       "75%      3.677083   12.500000   18.100000    0.000000    0.624000    6.623500   \n",
       "max     88.976200  100.000000   27.740000    1.000000    0.871000    8.780000   \n",
       "\n",
       "              AGE         DIS         RAD         TAX     PTRATIO           B  \\\n",
       "count  506.000000  506.000000  506.000000  506.000000  506.000000  506.000000   \n",
       "mean    68.574901    3.795043    9.549407  408.237154   18.455534  356.674032   \n",
       "std     28.148861    2.105710    8.707259  168.537116    2.164946   91.294864   \n",
       "min      2.900000    1.129600    1.000000  187.000000   12.600000    0.320000   \n",
       "25%     45.025000    2.100175    4.000000  279.000000   17.400000  375.377500   \n",
       "50%     77.500000    3.207450    5.000000  330.000000   19.050000  391.440000   \n",
       "75%     94.075000    5.188425   24.000000  666.000000   20.200000  396.225000   \n",
       "max    100.000000   12.126500   24.000000  711.000000   22.000000  396.900000   \n",
       "\n",
       "            LSTAT        MEDV  \n",
       "count  506.000000  506.000000  \n",
       "mean    12.653063   22.532806  \n",
       "std      7.141062    9.197104  \n",
       "min      1.730000    5.000000  \n",
       "25%      6.950000   17.025000  \n",
       "50%     11.360000   21.200000  \n",
       "75%     16.955000   25.000000  \n",
       "max     37.970000   50.000000  "
      ]
     },
     "execution_count": 6,
     "metadata": {},
     "output_type": "execute_result"
    }
   ],
   "source": [
    "boston.describe()"
   ]
  },
  {
   "cell_type": "code",
   "execution_count": 7,
   "id": "a4d88c17",
   "metadata": {},
   "outputs": [
    {
     "name": "stdout",
     "output_type": "stream",
     "text": [
      "<class 'pandas.core.frame.DataFrame'>\n",
      "RangeIndex: 506 entries, 0 to 505\n",
      "Data columns (total 14 columns):\n",
      " #   Column   Non-Null Count  Dtype  \n",
      "---  ------   --------------  -----  \n",
      " 0   CRIM     506 non-null    float64\n",
      " 1   ZN       506 non-null    float64\n",
      " 2   INDUS    506 non-null    float64\n",
      " 3   CHAS     506 non-null    int64  \n",
      " 4   NOX      506 non-null    float64\n",
      " 5   RM       506 non-null    float64\n",
      " 6   AGE      506 non-null    float64\n",
      " 7   DIS      506 non-null    float64\n",
      " 8   RAD      506 non-null    int64  \n",
      " 9   TAX      506 non-null    float64\n",
      " 10  PTRATIO  506 non-null    float64\n",
      " 11  B        506 non-null    float64\n",
      " 12  LSTAT    506 non-null    float64\n",
      " 13  MEDV     506 non-null    float64\n",
      "dtypes: float64(12), int64(2)\n",
      "memory usage: 55.5 KB\n"
     ]
    }
   ],
   "source": [
    "boston.info()"
   ]
  },
  {
   "cell_type": "code",
   "execution_count": 8,
   "id": "9b53b69e",
   "metadata": {},
   "outputs": [
    {
     "name": "stderr",
     "output_type": "stream",
     "text": [
      "C:\\Users\\optim\\anaconda3\\lib\\site-packages\\seaborn\\distributions.py:2557: FutureWarning: `distplot` is a deprecated function and will be removed in a future version. Please adapt your code to use either `displot` (a figure-level function with similar flexibility) or `histplot` (an axes-level function for histograms).\n",
      "  warnings.warn(msg, FutureWarning)\n"
     ]
    },
    {
     "data": {
      "text/plain": [
       "<AxesSubplot:xlabel='MEDV', ylabel='Density'>"
      ]
     },
     "execution_count": 8,
     "metadata": {},
     "output_type": "execute_result"
    },
    {
     "data": {
      "image/png": "[encoded data removed]",
      "text/plain": [
       "<Figure size 432x288 with 1 Axes>"
      ]
     },
     "metadata": {
      "needs_background": "light"
     },
     "output_type": "display_data"
    }
   ],
   "source": [
    "#visualiation\n",
    "\n",
    "import seaborn as sns\n",
    "sns.distplot(boston.MEDV)"
   ]
  },
  {
   "cell_type": "code",
   "execution_count": 9,
   "id": "54bf86bc",
   "metadata": {},
   "outputs": [
    {
     "name": "stderr",
     "output_type": "stream",
     "text": [
      "C:\\Users\\optim\\anaconda3\\lib\\site-packages\\seaborn\\_decorators.py:36: FutureWarning: Pass the following variable as a keyword arg: x. From version 0.12, the only valid positional argument will be `data`, and passing other arguments without an explicit keyword will result in an error or misinterpretation.\n",
      "  warnings.warn(\n"
     ]
    },
    {
     "data": {
      "text/plain": [
       "<AxesSubplot:xlabel='MEDV'>"
      ]
     },
     "execution_count": 9,
     "metadata": {},
     "output_type": "execute_result"
    },
    {
     "data": {
      "image/png": "[encoded data removed]",
      "text/plain": [
       "<Figure size 432x288 with 1 Axes>"
      ]
     },
     "metadata": {
      "needs_background": "light"
     },
     "output_type": "display_data"
    }
   ],
   "source": [
    "sns.boxplot(boston.MEDV)"
   ]
  },
  {
   "cell_type": "code",
   "execution_count": 10,
   "id": "2ee328b7",
   "metadata": {},
   "outputs": [
    {
     "data": {
      "image/png": "[encoded data removed]",
      "text/plain": [
       "<Figure size 1440x360 with 3 Axes>"
      ]
     },
     "metadata": {
      "needs_background": "light"
     },
     "output_type": "display_data"
    }
   ],
   "source": [
    "import matplotlib.pyplot as plt\n",
    "plt.figure(figsize = (20,5))\n",
    "features = ['LSTAT','RM','PTRATIO']\n",
    "for i, col in enumerate(features):\n",
    "    plt.subplot(1, len(features) , i+1)\n",
    "    x = boston[col]\n",
    "    y = boston.MEDV\n",
    "    plt.scatter(x, y, marker='o')\n",
    "    plt.title(\"Variation in House prices\")\n",
    "    plt.xlabel(col)\n",
    "    plt.ylabel('\"House prices in $1000\"')"
   ]
  },
  {
   "cell_type": "code",
   "execution_count": null,
   "id": "ce359dcc",
   "metadata": {},
   "outputs": [],
   "source": []
  },
  {
   "cell_type": "code",
   "execution_count": 11,
   "id": "7b73942d",
   "metadata": {},
   "outputs": [],
   "source": [
    "#Splitting the dependent feature and independent feature\n",
    "X = boston.iloc[:, :-1].values\n",
    "y = boston.iloc[:, -1].values"
   ]
  },
  {
   "cell_type": "code",
   "execution_count": 12,
   "id": "8a23bcda",
   "metadata": {},
   "outputs": [],
   "source": [
    "# Split the dataset into training and testing sets\n",
    "X_train, X_test, y_train, y_test = train_test_split(X, y, test_size=0.2, random_state=42)\n",
    "\n",
    "model = tf.keras.Sequential([\n",
    "    tf.keras.layers.Dense(units=10, input_shape=(X_train.shape[1],), activation='relu'),\n",
    "    tf.keras.layers.Dense(units=1)\n",
    "])"
   ]
  },
  {
   "cell_type": "code",
   "execution_count": 13,
   "id": "ba6d1ad4",
   "metadata": {},
   "outputs": [],
   "source": [
    "# Compile the model\n",
    "model.compile(optimizer=tf.keras.optimizers.Adam(learning_rate=0.01), loss='mean_squared_error')\n"
   ]
  },
  {
   "cell_type": "code",
   "execution_count": 14,
   "id": "8d4de2f3",
   "metadata": {},
   "outputs": [
    {
     "name": "stdout",
     "output_type": "stream",
     "text": [
      "Epoch 1/100\n",
      "13/13 [==============================] - 2s 41ms/step - loss: 472.9290 - val_loss: 199.5276\n",
      "Epoch 2/100\n",
      "13/13 [==============================] - 0s 7ms/step - loss: 144.1095 - val_loss: 90.6631\n",
      "Epoch 3/100\n",
      "13/13 [==============================] - 0s 7ms/step - loss: 90.8229 - val_loss: 73.9286\n",
      "Epoch 4/100\n",
      "13/13 [==============================] - 0s 7ms/step - loss: 81.2818 - val_loss: 72.2751\n",
      "Epoch 5/100\n",
      "13/13 [==============================] - 0s 7ms/step - loss: 75.2889 - val_loss: 74.9378\n",
      "Epoch 6/100\n",
      "13/13 [==============================] - 0s 8ms/step - loss: 73.9811 - val_loss: 55.8385\n",
      "Epoch 7/100\n",
      "13/13 [==============================] - 0s 8ms/step - loss: 71.3448 - val_loss: 57.9269\n",
      "Epoch 8/100\n",
      "13/13 [==============================] - 0s 7ms/step - loss: 63.7943 - val_loss: 50.3740\n",
      "Epoch 9/100\n",
      "13/13 [==============================] - 0s 8ms/step - loss: 57.9134 - val_loss: 43.3341\n",
      "Epoch 10/100\n",
      "13/13 [==============================] - 0s 7ms/step - loss: 57.2458 - val_loss: 41.2549\n",
      "Epoch 11/100\n",
      "13/13 [==============================] - 0s 7ms/step - loss: 54.7907 - val_loss: 39.6969\n",
      "Epoch 12/100\n",
      "13/13 [==============================] - 0s 7ms/step - loss: 53.8606 - val_loss: 37.0745\n",
      "Epoch 13/100\n",
      "13/13 [==============================] - 0s 10ms/step - loss: 48.6982 - val_loss: 38.4176\n",
      "Epoch 14/100\n",
      "13/13 [==============================] - 0s 8ms/step - loss: 50.0717 - val_loss: 35.2195\n",
      "Epoch 15/100\n",
      "13/13 [==============================] - 0s 10ms/step - loss: 51.1989 - val_loss: 32.5589\n",
      "Epoch 16/100\n",
      "13/13 [==============================] - 0s 10ms/step - loss: 46.2749 - val_loss: 30.2587\n",
      "Epoch 17/100\n",
      "13/13 [==============================] - 0s 11ms/step - loss: 44.0336 - val_loss: 39.8230\n",
      "Epoch 18/100\n",
      "13/13 [==============================] - 0s 11ms/step - loss: 43.2039 - val_loss: 29.4545\n",
      "Epoch 19/100\n",
      "13/13 [==============================] - 0s 12ms/step - loss: 43.0063 - val_loss: 29.6015\n",
      "Epoch 20/100\n",
      "13/13 [==============================] - 0s 11ms/step - loss: 41.7314 - val_loss: 34.3487\n",
      "Epoch 21/100\n",
      "13/13 [==============================] - 0s 9ms/step - loss: 40.4803 - val_loss: 37.6244\n",
      "Epoch 22/100\n",
      "13/13 [==============================] - 0s 9ms/step - loss: 44.3881 - val_loss: 25.9858\n",
      "Epoch 23/100\n",
      "13/13 [==============================] - 0s 9ms/step - loss: 38.5038 - val_loss: 26.3309\n",
      "Epoch 24/100\n",
      "13/13 [==============================] - 0s 14ms/step - loss: 35.7663 - val_loss: 27.0433\n",
      "Epoch 25/100\n",
      "13/13 [==============================] - 0s 10ms/step - loss: 38.6997 - val_loss: 27.2393\n",
      "Epoch 26/100\n",
      "13/13 [==============================] - 0s 9ms/step - loss: 36.4173 - val_loss: 27.4957\n",
      "Epoch 27/100\n",
      "13/13 [==============================] - 0s 9ms/step - loss: 35.0018 - val_loss: 25.6849\n",
      "Epoch 28/100\n",
      "13/13 [==============================] - 0s 10ms/step - loss: 36.7809 - val_loss: 33.8621\n",
      "Epoch 29/100\n",
      "13/13 [==============================] - 0s 8ms/step - loss: 36.0834 - val_loss: 27.3722\n",
      "Epoch 30/100\n",
      "13/13 [==============================] - 0s 10ms/step - loss: 33.1647 - val_loss: 26.3809\n",
      "Epoch 31/100\n",
      "13/13 [==============================] - 0s 10ms/step - loss: 34.1403 - val_loss: 27.0444\n",
      "Epoch 32/100\n",
      "13/13 [==============================] - 0s 10ms/step - loss: 33.3535 - val_loss: 38.0906\n",
      "Epoch 33/100\n",
      "13/13 [==============================] - 0s 9ms/step - loss: 33.4162 - val_loss: 26.8550\n",
      "Epoch 34/100\n",
      "13/13 [==============================] - 0s 10ms/step - loss: 31.8856 - val_loss: 27.2556\n",
      "Epoch 35/100\n",
      "13/13 [==============================] - 0s 9ms/step - loss: 32.7265 - val_loss: 28.2395\n",
      "Epoch 36/100\n",
      "13/13 [==============================] - 0s 8ms/step - loss: 32.0740 - val_loss: 26.4100\n",
      "Epoch 37/100\n",
      "13/13 [==============================] - 0s 10ms/step - loss: 31.8268 - val_loss: 26.2834\n",
      "Epoch 38/100\n",
      "13/13 [==============================] - 0s 11ms/step - loss: 31.3102 - val_loss: 29.8429\n",
      "Epoch 39/100\n",
      "13/13 [==============================] - 0s 11ms/step - loss: 35.2519 - val_loss: 26.2193\n",
      "Epoch 40/100\n",
      "13/13 [==============================] - 0s 9ms/step - loss: 38.7873 - val_loss: 30.7054\n",
      "Epoch 41/100\n",
      "13/13 [==============================] - 0s 10ms/step - loss: 37.9334 - val_loss: 27.1608\n",
      "Epoch 42/100\n",
      "13/13 [==============================] - 0s 10ms/step - loss: 32.1221 - val_loss: 29.1850\n",
      "Epoch 43/100\n",
      "13/13 [==============================] - 0s 10ms/step - loss: 35.0729 - val_loss: 26.7863\n",
      "Epoch 44/100\n",
      "13/13 [==============================] - 0s 9ms/step - loss: 32.1503 - val_loss: 26.5978\n",
      "Epoch 45/100\n",
      "13/13 [==============================] - 0s 9ms/step - loss: 31.3930 - val_loss: 29.5609\n",
      "Epoch 46/100\n",
      "13/13 [==============================] - 0s 8ms/step - loss: 34.9815 - val_loss: 26.5977\n",
      "Epoch 47/100\n",
      "13/13 [==============================] - 0s 12ms/step - loss: 33.3455 - val_loss: 38.8092\n",
      "Epoch 48/100\n",
      "13/13 [==============================] - 0s 10ms/step - loss: 45.4360 - val_loss: 45.2140\n",
      "Epoch 49/100\n",
      "13/13 [==============================] - 0s 10ms/step - loss: 44.4786 - val_loss: 28.8934\n",
      "Epoch 50/100\n",
      "13/13 [==============================] - 0s 9ms/step - loss: 34.1538 - val_loss: 27.6774\n",
      "Epoch 51/100\n",
      "13/13 [==============================] - 0s 9ms/step - loss: 32.4695 - val_loss: 27.6015\n",
      "Epoch 52/100\n",
      "13/13 [==============================] - 0s 12ms/step - loss: 33.0294 - val_loss: 39.3970\n",
      "Epoch 53/100\n",
      "13/13 [==============================] - 0s 11ms/step - loss: 32.8319 - val_loss: 26.2801\n",
      "Epoch 54/100\n",
      "13/13 [==============================] - 0s 10ms/step - loss: 31.0341 - val_loss: 27.6803\n",
      "Epoch 55/100\n",
      "13/13 [==============================] - 0s 11ms/step - loss: 31.2584 - val_loss: 27.3614\n",
      "Epoch 56/100\n",
      "13/13 [==============================] - 0s 9ms/step - loss: 33.1818 - val_loss: 37.8083\n",
      "Epoch 57/100\n",
      "13/13 [==============================] - 0s 10ms/step - loss: 34.3262 - val_loss: 29.4139\n",
      "Epoch 58/100\n",
      "13/13 [==============================] - 0s 11ms/step - loss: 32.8705 - val_loss: 25.1840\n",
      "Epoch 59/100\n",
      "13/13 [==============================] - 0s 10ms/step - loss: 33.0838 - val_loss: 27.2502\n",
      "Epoch 60/100\n",
      "13/13 [==============================] - 0s 9ms/step - loss: 35.9755 - val_loss: 24.9140\n",
      "Epoch 61/100\n",
      "13/13 [==============================] - 0s 10ms/step - loss: 31.4767 - val_loss: 30.6505\n",
      "Epoch 62/100\n",
      "13/13 [==============================] - 0s 9ms/step - loss: 31.1593 - val_loss: 25.2871\n",
      "Epoch 63/100\n",
      "13/13 [==============================] - 0s 9ms/step - loss: 31.7404 - val_loss: 33.3904\n",
      "Epoch 64/100\n",
      "13/13 [==============================] - 0s 10ms/step - loss: 36.0716 - val_loss: 27.2716\n",
      "Epoch 65/100\n",
      "13/13 [==============================] - 0s 8ms/step - loss: 29.6125 - val_loss: 24.9716\n",
      "Epoch 66/100\n",
      "13/13 [==============================] - 0s 9ms/step - loss: 29.4908 - val_loss: 30.1116\n",
      "Epoch 67/100\n",
      "13/13 [==============================] - 0s 10ms/step - loss: 29.6222 - val_loss: 28.9615\n",
      "Epoch 68/100\n",
      "13/13 [==============================] - 0s 11ms/step - loss: 31.5877 - val_loss: 26.6035\n",
      "Epoch 69/100\n",
      "13/13 [==============================] - 0s 12ms/step - loss: 31.4892 - val_loss: 26.3396\n",
      "Epoch 70/100\n",
      "13/13 [==============================] - 0s 8ms/step - loss: 29.1816 - val_loss: 27.5237\n",
      "Epoch 71/100\n",
      "13/13 [==============================] - 0s 11ms/step - loss: 32.8906 - val_loss: 35.2363\n",
      "Epoch 72/100\n",
      "13/13 [==============================] - 0s 9ms/step - loss: 33.5414 - val_loss: 26.4325\n",
      "Epoch 73/100\n",
      "13/13 [==============================] - 0s 11ms/step - loss: 30.6776 - val_loss: 39.5806\n",
      "Epoch 74/100\n",
      "13/13 [==============================] - 0s 9ms/step - loss: 31.1896 - val_loss: 27.3946\n",
      "Epoch 75/100\n",
      "13/13 [==============================] - 0s 9ms/step - loss: 29.3582 - val_loss: 26.6688\n",
      "Epoch 76/100\n",
      "13/13 [==============================] - 0s 11ms/step - loss: 31.4900 - val_loss: 27.5572\n",
      "Epoch 77/100\n",
      "13/13 [==============================] - 0s 12ms/step - loss: 29.5508 - val_loss: 26.2249\n",
      "Epoch 78/100\n",
      "13/13 [==============================] - 0s 12ms/step - loss: 29.7280 - val_loss: 29.6196\n",
      "Epoch 79/100\n",
      "13/13 [==============================] - 0s 10ms/step - loss: 30.9699 - val_loss: 27.6721\n",
      "Epoch 80/100\n",
      "13/13 [==============================] - 0s 10ms/step - loss: 28.6132 - val_loss: 24.9216\n",
      "Epoch 81/100\n",
      "13/13 [==============================] - 0s 8ms/step - loss: 28.8043 - val_loss: 41.7254\n",
      "Epoch 82/100\n",
      "13/13 [==============================] - 0s 11ms/step - loss: 33.5294 - val_loss: 26.3029\n",
      "Epoch 83/100\n",
      "13/13 [==============================] - 0s 10ms/step - loss: 29.6217 - val_loss: 28.8022\n",
      "Epoch 84/100\n",
      "13/13 [==============================] - 0s 10ms/step - loss: 29.7258 - val_loss: 26.3147\n",
      "Epoch 85/100\n",
      "13/13 [==============================] - 0s 14ms/step - loss: 28.9594 - val_loss: 30.6465\n",
      "Epoch 86/100\n",
      "13/13 [==============================] - 0s 9ms/step - loss: 31.2334 - val_loss: 27.8509\n",
      "Epoch 87/100\n",
      "13/13 [==============================] - 0s 9ms/step - loss: 29.4036 - val_loss: 24.9508\n",
      "Epoch 88/100\n",
      "13/13 [==============================] - 0s 9ms/step - loss: 28.8987 - val_loss: 37.0490\n",
      "Epoch 89/100\n",
      "13/13 [==============================] - 0s 8ms/step - loss: 29.0523 - val_loss: 24.2523\n",
      "Epoch 90/100\n",
      "13/13 [==============================] - 0s 10ms/step - loss: 27.7795 - val_loss: 25.6961\n",
      "Epoch 91/100\n",
      "13/13 [==============================] - 0s 9ms/step - loss: 28.1030 - val_loss: 24.7661\n",
      "Epoch 92/100\n",
      "13/13 [==============================] - 0s 11ms/step - loss: 31.7467 - val_loss: 30.6442\n",
      "Epoch 93/100\n",
      "13/13 [==============================] - 0s 11ms/step - loss: 29.9487 - val_loss: 28.5559\n",
      "Epoch 94/100\n",
      "13/13 [==============================] - 0s 9ms/step - loss: 30.4357 - val_loss: 23.9526\n",
      "Epoch 95/100\n",
      "13/13 [==============================] - 0s 11ms/step - loss: 29.8830 - val_loss: 25.3368\n",
      "Epoch 96/100\n",
      "13/13 [==============================] - 0s 11ms/step - loss: 30.8772 - val_loss: 33.9999\n",
      "Epoch 97/100\n",
      "13/13 [==============================] - 0s 11ms/step - loss: 30.3163 - val_loss: 23.4747\n",
      "Epoch 98/100\n",
      "13/13 [==============================] - 0s 9ms/step - loss: 27.1787 - val_loss: 26.0055\n",
      "Epoch 99/100\n",
      "13/13 [==============================] - 0s 9ms/step - loss: 29.8228 - val_loss: 23.9864\n",
      "Epoch 100/100\n",
      "13/13 [==============================] - 0s 11ms/step - loss: 28.0276 - val_loss: 23.7206\n"
     ]
    }
   ],
   "source": [
    "# Train the model\n",
    "history = model.fit(X_train, y_train, epochs=100, batch_size=32, validation_data=(X_test, y_test))\n"
   ]
  },
  {
   "cell_type": "code",
   "execution_count": 15,
   "id": "d35ba883",
   "metadata": {},
   "outputs": [
    {
     "name": "stdout",
     "output_type": "stream",
     "text": [
      "Test Mean Squared Error: 23.721\n"
     ]
    }
   ],
   "source": [
    "# Evaluate the performance of the model on the test data\n",
    "mse = model.evaluate(X_test, y_test, verbose=0)\n",
    "print(f'Test Mean Squared Error: {mse:0.3f}')"
   ]
  },
  {
   "cell_type": "code",
   "execution_count": 17,
   "id": "15b24b8e",
   "metadata": {},
   "outputs": [
    {
     "data": {
      "image/png": "[encoded data removed]",
      "text/plain": [
       "<Figure size 432x288 with 1 Axes>"
      ]
     },
     "metadata": {
      "needs_background": "light"
     },
     "output_type": "display_data"
    }
   ],
   "source": [
    "# Plot the loss curves\n",
    "pd.DataFrame(history.history).plot(figsize=(6, 4), xlabel=\"Epochs\", ylabel=\"Loss\", title='Loss Curves')\n",
    "plt.show()"
   ]
  },
  {
   "cell_type": "code",
   "execution_count": null,
   "id": "a6d416a7",
   "metadata": {},
   "outputs": [],
   "source": []
  },
  {
   "cell_type": "code",
   "execution_count": null,
   "id": "fa1cc152",
   "metadata": {},
   "outputs": [],
   "source": []
  },
  {
   "cell_type": "code",
   "execution_count": null,
   "id": "1e91906a",
   "metadata": {},
   "outputs": [],
   "source": []
  }
 ],
 "metadata": {
  "kernelspec": {
   "display_name": "Python 3",
   "language": "python",
   "name": "python3"
  },
  "language_info": {
   "codemirror_mode": {
    "name": "ipython",
    "version": 3
   },
   "file_extension": ".py",
   "mimetype": "text/x-python",
   "name": "python",
   "nbconvert_exporter": "python",
   "pygments_lexer": "ipython3",
   "version": "3.8.8"
  }
 },
 "nbformat": 4,
 "nbformat_minor": 5
}
